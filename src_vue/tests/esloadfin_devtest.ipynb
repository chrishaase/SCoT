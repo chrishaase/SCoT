{
 "cells": [
  {
   "cell_type": "code",
   "execution_count": 1,
   "metadata": {},
   "outputs": [],
   "source": [
    "import csv\n",
    "from datetime import datetime\n",
    "from elasticsearch import Elasticsearch\n",
    "import json\n"
   ]
  },
  {
   "cell_type": "code",
   "execution_count": 2,
   "metadata": {},
   "outputs": [],
   "source": [
    "# settings\n",
    "es = Elasticsearch([{'host': '127.0.0.1', 'port': 9292}])\n",
    "indexname = \"fi_news_dep\"\n",
    "importfile = \"C:/Users/hitec_c/Documents/finnews_dep_wft.txt\"\n"
   ]
  },
  {
   "cell_type": "code",
   "execution_count": null,
   "metadata": {},
   "outputs": [],
   "source": [
    "# read docs use counter as additional id to start and stop pushing to elasticsearch\n",
    "docs = []\n",
    "\n",
    "# start and end rows are included in the dataset\n",
    "start = 25000\n",
    "end = 25000\n",
    "\n",
    "with open(importfile, newline='', encoding=\"UTF-8\") as f:\n",
    "    reader = csv.reader(f, delimiter=\"\\t\", quoting=csv.QUOTE_NONE)\n",
    "    counter = 0\n",
    "    for row in reader:\n",
    "        if counter >= start:\n",
    "            ############### parse\n",
    "            josi = row[0]\n",
    "            jos = josi.split(\"<>\")\n",
    "            #print(\"jos\", jos)\n",
    "            bimsi = row[1]\n",
    "            bims = bimsi.split(\"<>\")\n",
    "            #print(\"bims\", bims)\n",
    "            source = row[2]\n",
    "            #print(\"source\", source)\n",
    "            sentence = row[3]\n",
    "            #print(\"sentence\", sentence)\n",
    "            time_slice = row[4]\n",
    "            #print(\"time_slice\", time_slice)\n",
    "        \n",
    "            ######### index in es\n",
    "            doc = {\n",
    "                'jos': jos,\n",
    "                'bims': bims,\n",
    "                'sentence': sentence,\n",
    "                'source': source,\n",
    "                'date': time_slice,\n",
    "                'time_slice': time_slice\n",
    "            }\n",
    "            es.index(index=indexname, body=doc)\n",
    "        \n",
    "        ##### count and break\n",
    "        if counter >=end:\n",
    "            break\n",
    "        counter += 1"
   ]
  },
  {
   "cell_type": "code",
   "execution_count": 3,
   "metadata": {},
   "outputs": [
    {
     "name": "stdout",
     "output_type": "stream",
     "text": [
      "['1999-2002 [1999-2002] : Että on hyvää . [https://www.kielipankki.fi/corpora/lehdet90ff/] ', '1999-2002 [1999-2002] : Hyvin usein Sjödinit saavat myös kuulla , että olisi varmasti sekä pojille että vanhemmille parempi , jos pojat kuolisivat mahdollisimman pian . [https://www.kielipankki.fi/corpora/lehdet90ff/] ', '1999-2002 [1999-2002] : Hyvä että menin . [https://www.kielipankki.fi/corpora/lehdet90ff/] ', '1999-2002 [1999-2002] : Kun löytää toisesta vähän virheitä voi ainakin hetken ajatella että on itse parempi . [https://www.kielipankki.fi/corpora/lehdet90ff/] ', '1999-2002 [1999-2002] : On hyvä , että kirkon taholla on tartuttu aiheeseen . [https://www.kielipankki.fi/corpora/lehdet90ff/] ', '1999-2002 [1999-2002] : Parempi , että jäät kotiin lepäämään . \" [https://www.kielipankki.fi/corpora/lehdet90ff/] ', '1999-2002 [1999-2002] : Riittää että on kyllin hyvä , aivan tavallinen isä tai äiti . [https://www.kielipankki.fi/corpora/lehdet90ff/] ', '1999-2002 [1999-2002] : Se on niin hyvä , että \" voimme voittaa pahan hyvällä . \" [http://akl-web.fi/system/files/st_1-2002_Ei-vastaa-orig-taittoa.pdf] ', '1999-2002 [1999-2002] : Toivomme , että olosuhteet uudessa “ parakissa ” ovat paremmat , kuin tähänastisissa tilapäismajoitustiloissa . [http://akl-web.fi/system/files/1999-3_Ei-vastaa-orig-taittoa.pdf] ', '1999-2002 [1999-2002] : koska meille on opetettu , että me olemme aina vähän parempia kuin muut . [http://akl-web.fi/system/files/st_1-2000_Ei-vastaa-orig-taittoa_0.pdf] ']\n"
     ]
    }
   ],
   "source": [
    "# test query\n",
    "jo = \"että#SCONJ\"\n",
    "bim = \"että#SCONJ@hyvä#ADJ#mark\"\n",
    "res = es.search(index=indexname, \n",
    "            body={\"query\": \n",
    "                {\"bool\":\n",
    "                    {\"must\":\n",
    "                        [\n",
    "                        {\"match\": \n",
    "                            {\"jos\":  jo}\n",
    "                        },\n",
    "                        {\"match\": \n",
    "                            {\"bims\": bim}\n",
    "                        }\n",
    "                        ]\n",
    "                    }\n",
    "                }\n",
    "            }\n",
    "        )\n",
    "#print(res)\n",
    "ret_set = set()\n",
    "for hit in res[\"hits\"][\"hits\"]:\n",
    "    text = hit[\"_source\"][\"date\"][:10]+ \" [\" + str(hit[\"_source\"][\"time_slice\"])+ \"] : \" + hit[\"_source\"][\"sentence\"] + \" [\" + hit[\"_source\"][\"source\"] + \"] \"\n",
    "    ret_set.add(text)\n",
    "    ret_list = list(ret_set)\n",
    "    ret_list.sort()\n",
    "print(ret_list)"
   ]
  },
  {
   "cell_type": "code",
   "execution_count": null,
   "metadata": {},
   "outputs": [],
   "source": []
  }
 ],
 "metadata": {
  "kernelspec": {
   "display_name": "Python 3",
   "language": "python",
   "name": "python3"
  },
  "language_info": {
   "codemirror_mode": {
    "name": "ipython",
    "version": 3
   },
   "file_extension": ".py",
   "mimetype": "text/x-python",
   "name": "python",
   "nbconvert_exporter": "python",
   "pygments_lexer": "ipython3",
   "version": "3.7.6"
  }
 },
 "nbformat": 4,
 "nbformat_minor": 4
}
